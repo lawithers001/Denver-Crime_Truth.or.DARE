{
 "cells": [
  {
   "cell_type": "markdown",
   "metadata": {},
   "source": [
    "Team Timeline: \n",
    "\n",
    "    Sat 6/30: guidlines - asign indv work, finish parsing drug data and graphs \n",
    "    Tues 7/3: Work on api to make advanced visual \n",
    "    Thurs 7/5: Union statin - help eachother with indiv work and wrap up all coding, creat presentation template\n",
    "    Sat 7/8: Join slides, review presentation \n",
    "    Tues 7/10: Present "
   ]
  },
  {
   "cell_type": "markdown",
   "metadata": {},
   "source": [
    "# Guidelines for Project 1 -- Read me file provided for Project 1 \n",
    "\n",
    "This document contains guidelines, requirements, and suggestions for Project 1.\n",
    "\n",
    "## Team Effort\n",
    "\n",
    "Before anything, remember that Projects are a **group effort**: Working closely with your teammates is a requirement. This both helps teach real-world collaborative workflows, and enables you to tackle more difficult problems than you'd be able to working alone.\n",
    "\n",
    "In other words, working in groups allows you to **work smart** and **dream big**. Take advantage of it!\n",
    "\n",
    "## Project Proposal\n",
    "\n",
    "Before you start writing any code, your group should outline the scope and purpose of your project. This helps provide direction and prevent [scope creep](https://en.wikipedia.org/wiki/Scope_creep).\n",
    "\n",
    "Write this as a brief summary of your interests and intent, including:\n",
    "\n",
    "* The kind of data you'd like to work with/field you're interested in (e.g., geodata, weather data, etc.)\n",
    "\n",
    "* The kinds of questions you'll be asking of that data\n",
    "\n",
    "* Possible source for such data\n",
    "\n",
    "In other words, write down what kind of data you plan to work with, and what kinds of questions you'd like to ask of it. This constitutes your Project Proposal/Outline, and should look something like this:\n",
    "\n",
    "> Our project is to uncover patterns in criminal activity around Los Angeles. We'll examine relationships between types of crime and location; crime rates and times of day; trends in crime rates over the course of the year; and related questions, as the data admits.\n",
    "\n",
    "## Finding Data\n",
    "\n",
    "Once your group has written an outline, it's time to start hunting for data. You are free to use data from any source, but we recommend the following curated sources of high-quality data:\n",
    "\n",
    "* [data.world](https://data.world/)\n",
    "\n",
    "* [Kaggle](https://www.kaggle.com/)\n",
    "\n",
    "* [Data.gov](https://www.data.gov)\n",
    "\n",
    "Chances are you'll have to update your Project Outline as you explore the available data. **This is fine**—adjustments like this are part of the process! Just make sure everyone in the group is up-to-speed on the goals of the project as you make changes.\n",
    "\n",
    "Make sure that your data is not too large for local analysis. **Big Data** datasets are difficult to manage locally, so consider a subset of that data or a different dataset altogether.\n",
    "\n",
    "## Data Cleanup & Analysis\n",
    "\n",
    "With data in hand, it's time to tackle development and analysis. This is where the fun starts!\n",
    "\n",
    "Inevitably, the analysis process can be broken into two broad phases: **Exploration & Cleanup** and **Analysis** proper.\n",
    "\n",
    "As you've learned, you'll need to explore, clean, and reformat your data before you can begin to answer your research questions. We recommend keeping track of these exploration and cleanup steps in a dedicated Jupyter Notebook, both for organization's sake and to make it easier to  present your work later.\n",
    "\n",
    "Similarly, after you've massaged your data and are ready to start crunching numbers, you should keep track of your work in a Jupyter Notebook dedicated specifically to analysis.\n",
    "\n",
    "During both phases, **don't forget to include plots**! Don't make the mistake of waiting to build figures until you're preparing your presentation. Creating them along the way can reveal insights and interesting trends in the data that you might not notice otherwise.\n",
    "\n",
    "We recommend focusing your analysis on techniques such as aggregation, correlation, comparison, summary statistics, sentiment analysis, and time series analysis.\n",
    "\n",
    "Finally, be sure that your projects meet the [technical requirements](TechnicalRequirements.md).\n",
    "\n",
    "## Presentation\n",
    "\n",
    "After you've analyzed your data to your satisfaction, you'll put together a presentation to show off your work, explain your process, and discuss your conclusions.\n",
    "\n",
    "This presentation will be delivered as a slideshow, and should give your classmates and instructional staff an overview of your work. PowerPoint, Keynote, and Google Slides are all acceptable for building slides.\n",
    "\n",
    "As long as your slides meet the [presentation requirements](PresentationRequirements.md), you are free to structure the presentation however you wish, but students are often successful with the format laid out in the [presentation guidelines](PresentationGuidelines.md).\n",
    "\n",
    "- - -\n",
    "\n",
    "### Copyright\n",
    "\n",
    "Coding Boot Camp © 2017. All Rights Reserved.\n"
   ]
  },
  {
   "cell_type": "code",
   "execution_count": null,
   "metadata": {},
   "outputs": [],
   "source": []
  },
  {
   "cell_type": "markdown",
   "metadata": {},
   "source": [
    "# Presentation Guidelines"
   ]
  },
  {
   "cell_type": "markdown",
   "metadata": {},
   "source": [
    "You are free to structure your presentations to your liking, but students tend to have success with the following format.\n",
    "\n",
    "* Title Slide\n",
    "\n",
    "  * Include the name of the Project and Group Members\n",
    "\n",
    "* Motivation & Summary Slide\n",
    "\n",
    "  * Define the core message or hypothesis of your project.\n",
    "  * Describe the questions you asked, and _why_ you asked them\n",
    "  * Describe whether you were able to answer these questions to your satisfaction, and briefly summarize your findings\n",
    "\n",
    "* Questions & Data\n",
    "\n",
    "  * Elaborate on the questions you asked, describing what kinds of data you needed to answer them, and where you found it\n",
    "\n",
    "* Data Cleanup & Exploration\n",
    "\n",
    "  * Describe the exploration and cleanup process\n",
    "  * Discuss insights you had while exploring the data that you didn't anticipate\n",
    "  * Discuss any problems that arose after exploring the data, and how you resolved them\n",
    "  * Present and discuss interesting figures developed during exploration, ideally with the help of Jupyter Notebook\n",
    "\n",
    "* Data Analysis\n",
    "\n",
    "  * Discuss the steps you took to analyze the data and answer each question you asked in your proposal\n",
    "  * Present and discuss interesting figures developed during analysis, ideally with the help of Jupyter Notebook\n",
    "\n",
    "* Discussion\n",
    "\n",
    "  * Discuss your findings. Did you find what you expected to find? If not, why not? What inferences or general conclusions can you draw from your analysis?\n",
    "\n",
    "* Post Mortem\n",
    "\n",
    "  * Discuss any difficulties that arose, and how you dealt with them\n",
    "  * Discuss any additional questions that came up, but which you didn't have time to answer: What would you research next, if you had two more weeks?\n",
    "\n",
    "* Questions\n",
    "  * Open-floor Q&A with the audience"
   ]
  },
  {
   "cell_type": "markdown",
   "metadata": {},
   "source": [
    "# Technical Requirements"
   ]
  },
  {
   "cell_type": "markdown",
   "metadata": {},
   "source": [
    "The technical requirements for Project 1 are as follows.\n",
    "\n",
    "* [ ] Use Pandas to clean and format your data set(s)\n",
    "\n",
    "* [ ] Create a Jupyter Notebook describing the **data exploration and cleanup** process\n",
    "\n",
    "* [ ] Create a Jupyter Notebook illustrating the **final data analysis**\n",
    "\n",
    "* [ ] Use Matplotlib to create a total of 6-8 visualizations of your data (ideally, at least 2 per \"question\" you ask of your data)\n",
    "\n",
    "* [ ] Save PNG images of your visualizations to distribute to the class and instructional team, and for inclusion in your presentation\n",
    "\n",
    "* [ ] Optionally, use at least one API, if you can find an API with data pertinent to your primary research questions\n",
    "\n",
    "* [ ] Create a write-up summarizing your major findings. This should include a heading for each \"question\" you asked of your data, and under each heading, a short description of what you found and any relevant plots.\n",
    "\n",
    "- - -"
   ]
  },
  {
   "cell_type": "markdown",
   "metadata": {},
   "source": [
    "# Presentation Requirements"
   ]
  },
  {
   "cell_type": "markdown",
   "metadata": {},
   "source": [
    "The presentation requirements for Project 1 are as follows.\n",
    "\n",
    "Your presentation must:\n",
    "\n",
    "* [ ] Be at least 8-10 min. long\n",
    "\n",
    "* [ ] Describe the core message or hypothesis for your project.\n",
    "\n",
    "* [ ] Describe the questions you and your group found interesting, and what motivated you to answer them\n",
    "\n",
    "* [ ] Summarize where and how you found the data you used to answer these questions\n",
    "\n",
    "* [ ] Describe the data exploration and cleanup process (accompanied by your Jupyter Notebook)\n",
    "\n",
    "* [ ] Describe the analysis process (accompanied by your Jupyter Notebook)\n",
    "\n",
    "* [ ] Summarize your conclusions. This should include a numerical summary (i.e., what data did your analysis yield), as well as visualizations of that summary (plots of the final analysis data)\n",
    "\n",
    "* [ ] Discuss the implications of your findings. This is where you get to have an open-ended discussion about what your findings \"mean\".\n",
    "\n",
    "* [ ] Tell a good story! Storytelling through data analysis is no different than in literature. Find your narrative and use your analysis and visualization skills to highlight conflict and resolution in your data.\n",
    "\n",
    "\n",
    "- - -"
   ]
  }
 ],
 "metadata": {
  "kernelspec": {
   "display_name": "Python 3",
   "language": "python",
   "name": "python3"
  },
  "language_info": {
   "codemirror_mode": {
    "name": "ipython",
    "version": 3
   },
   "file_extension": ".py",
   "mimetype": "text/x-python",
   "name": "python",
   "nbconvert_exporter": "python",
   "pygments_lexer": "ipython3",
   "version": "3.6.4"
  }
 },
 "nbformat": 4,
 "nbformat_minor": 2
}
